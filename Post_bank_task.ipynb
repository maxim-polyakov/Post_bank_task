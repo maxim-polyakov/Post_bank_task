{
 "cells": [
  {
   "cell_type": "markdown",
   "id": "8d29f72b-ac83-4c3e-9f47-43ad1c1c3113",
   "metadata": {
    "jp-MarkdownHeadingCollapsed": true
   },
   "source": [
    "# Практическое задание № 2"
   ]
  },
  {
   "cell_type": "markdown",
   "id": "9432a496-19fe-4bb0-b86f-abda6c9c1593",
   "metadata": {},
   "source": [
    "## Теоретические вопросы (1 – 5)"
   ]
  },
  {
   "cell_type": "markdown",
   "id": "77e4c0e5-1456-48dc-b158-e949eec3d4dc",
   "metadata": {},
   "source": [
    "### Вопрос 1. Какое из значений больше: (0 + 2) или (null + 2)?"
   ]
  },
  {
   "cell_type": "markdown",
   "id": "3d18232c-a617-4f37-beba-0274ca38b1ed",
   "metadata": {},
   "source": [
    "Ответ 1. 0 + 2\n",
    "Ответ 2. null + 2\n",
    "Ответ 3. Сравнение некорректно\n",
    "Ответ 4. Они равны"
   ]
  },
  {
   "cell_type": "markdown",
   "id": "56286937-99d7-4b01-b46d-1bc6e9a6a6fa",
   "metadata": {},
   "source": [
    "Ответ 3"
   ]
  },
  {
   "cell_type": "markdown",
   "id": "0eefa85f-ace7-45ed-aa43-3b01671b5821",
   "metadata": {},
   "source": [
    "### Вопрос 2. В чем разница между операторами BETWEEN и IN?"
   ]
  },
  {
   "cell_type": "markdown",
   "id": "af1db451-a138-45b6-9950-1925672b9e6a",
   "metadata": {},
   "source": [
    "Ответ 1. BETWEEN задает диапазон значений с исключением граничных значений, IN – множество конкретных значений\n",
    "Ответ 2. BETWEEN задает диапазон значений с включением граничных значений, IN – множество конкретных значений\n",
    "Ответ 3. Они аналогичны"
   ]
  },
  {
   "cell_type": "markdown",
   "id": "71d94d35-6ad2-44a7-85f3-a937a9575913",
   "metadata": {},
   "source": [
    "Ответ 2"
   ]
  },
  {
   "cell_type": "markdown",
   "id": "1bdd93f1-113d-4b11-8f07-b651a5f3bbd2",
   "metadata": {},
   "source": [
    "### Вопрос 3. Для чего используется оператор with?"
   ]
  },
  {
   "cell_type": "markdown",
   "id": "7f3797db-58d6-444c-9626-21e4ef4d39c5",
   "metadata": {},
   "source": [
    "Ответ 1. Это аналог предиката where (они равны)\n",
    "Ответ 2. Это оператор для определения дополнительного условия к where\n",
    "Ответ 3. Это именованный подзапрос"
   ]
  },
  {
   "cell_type": "markdown",
   "id": "ab485ac5-92e6-48cc-b7bc-82e654091760",
   "metadata": {},
   "source": [
    "Ответ 3"
   ]
  },
  {
   "cell_type": "markdown",
   "id": "87b66633-0c03-4800-ad81-f830aabfe17b",
   "metadata": {},
   "source": [
    "Для написания обобщённого табличного выражения используется оператор WITH"
   ]
  },
  {
   "cell_type": "markdown",
   "id": "1201858f-21bf-421c-b361-ac04239ebb20",
   "metadata": {},
   "source": [
    "### Вопрос 4. В чем разница между TABLE и VIEW?"
   ]
  },
  {
   "cell_type": "markdown",
   "id": "587b453d-e01c-4fe1-b52f-3e57054719f2",
   "metadata": {},
   "source": [
    "Ответ 1. TABLE – это объект, физически хранящий данные, VIEW – именованный запрос\n",
    "Ответ 2. TABLE определяет структуру для хранения данных, VIEW – определяет, как обрабатывать данные\n",
    "Ответ 3. Они аналогичны"
   ]
  },
  {
   "cell_type": "markdown",
   "id": "1261f222-989d-4f9d-b334-f982ef2b5665",
   "metadata": {},
   "source": [
    "Ответ 1"
   ]
  },
  {
   "cell_type": "markdown",
   "id": "1122c662-bef0-4d49-8556-58c909565c49",
   "metadata": {},
   "source": [
    "### Вопрос 5. Что является аргументом функции exists?"
   ]
  },
  {
   "cell_type": "markdown",
   "id": "0bb0b6fc-f701-443f-8bae-e49500378fcd",
   "metadata": {},
   "source": [
    "Ответ 1. Логическое выражение\n",
    "Ответ 2. Выборка\n",
    "Ответ 3. Функция не принимает аргументы"
   ]
  },
  {
   "cell_type": "markdown",
   "id": "5675afee-5b0a-482c-9f32-a40f15d2ea5a",
   "metadata": {},
   "source": [
    "Ответ 2"
   ]
  },
  {
   "cell_type": "markdown",
   "id": "5417a66f-9199-447d-bd3e-290aaa071922",
   "metadata": {},
   "source": [
    "Аргументом EXISTS является обычный оператор SELECT , т. е. подзапрос. Выполнив запрос, система проверяет, возвращает ли он строки в результате."
   ]
  },
  {
   "cell_type": "markdown",
   "id": "a58761bc-2e3c-4a7d-91aa-3cc7cfd367eb",
   "metadata": {},
   "source": [
    "# Практическое задание №3"
   ]
  },
  {
   "cell_type": "markdown",
   "id": "746a9eaa-e10b-45d6-a270-43fb3f726294",
   "metadata": {},
   "source": [
    "О чем данное высказывание? Согласны ли вы с автором? Аргументируйте свою позицию."
   ]
  },
  {
   "cell_type": "markdown",
   "id": "f0772196-53c8-42a0-9dfa-51298b3c8df3",
   "metadata": {},
   "source": [
    "«Этикетка системы взглядов отличается от этикетки других товаров, между прочим, тем, что она обманывает не только покупателя, но часто и продавца».\n",
    "Карл Маркс"
   ]
  },
  {
   "cell_type": "markdown",
   "id": "9be087e3-08be-42f6-bb12-cec3326fb163",
   "metadata": {},
   "source": []
  }
 ],
 "metadata": {
  "kernelspec": {
   "display_name": "Python 3 (ipykernel)",
   "language": "python",
   "name": "python3"
  },
  "language_info": {
   "codemirror_mode": {
    "name": "ipython",
    "version": 3
   },
   "file_extension": ".py",
   "mimetype": "text/x-python",
   "name": "python",
   "nbconvert_exporter": "python",
   "pygments_lexer": "ipython3",
   "version": "3.10.14"
  }
 },
 "nbformat": 4,
 "nbformat_minor": 5
}
